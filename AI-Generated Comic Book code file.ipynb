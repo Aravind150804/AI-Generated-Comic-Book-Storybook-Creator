{
 "cells": [
  {
   "cell_type": "code",
   "execution_count": null,
   "id": "4b1b41ff-f5d7-4570-bf85-9d22539a8a59",
   "metadata": {},
   "outputs": [],
   "source": [
    "# Install necessary Python libraries\n",
    "pip install transformers diffusers torch torchvision torchaudio gradio\n"
   ]
  },
  {
   "cell_type": "code",
   "execution_count": null,
   "id": "40eb1c7b-4330-444f-a4c2-45cebec1a320",
   "metadata": {},
   "outputs": [],
   "source": [
    "git clone https://github.com/comfyanonymous/ComfyUI.git\n",
    "cd ComfyUI\n",
    "pip install -r requirements.txt\n"
   ]
  },
  {
   "cell_type": "code",
   "execution_count": 11,
   "id": "c1fd0041-765b-451c-81f7-9c635b01df4e",
   "metadata": {},
   "outputs": [],
   "source": [
    "# Story Generation Using LLM\n",
    "# We'll use a pre-trained LLM (like GPT-4, LLaMA, or Mistral) to generate short stories."
   ]
  },
  {
   "cell_type": "code",
   "execution_count": null,
   "id": "07bc824c-63b4-46ef-92d6-a1e709506656",
   "metadata": {},
   "outputs": [],
   "source": [
    "from transformers import pipeline  \n",
    "\n",
    "# Load a pre-trained LLM for text generation  \n",
    "story_generator = pipeline(\"text-generation\", model=\"mistralai/Mistral-7B\")  \n",
    "\n",
    "def generate_story(prompt, max_length=500):  \n",
    "    response = story_generator(prompt, max_length=max_length, do_sample=True)  \n",
    "    return response[0][\"generated_text\"]  \n",
    "\n",
    "# Example prompt  \n",
    "story_prompt = \"A brave astronaut exploring a lost civilization on Mars.\"  \n",
    "story = generate_story(story_prompt)  \n",
    "print(story)  \n"
   ]
  },
  {
   "cell_type": "code",
   "execution_count": 13,
   "id": "f1e7d697-c80b-45c0-91ac-155428953c07",
   "metadata": {},
   "outputs": [],
   "source": [
    "# Image Generation Using ComfyUI\n",
    "#Now, we generate images for the story's scenes using ComfyUI.\n",
    "\n",
    "#Using ComfyUI via API ComfyUI supports API-based generation. Here’s a sample API call:"
   ]
  },
  {
   "cell_type": "code",
   "execution_count": null,
   "id": "98e5d89b-f548-48e8-8966-2552a51c9738",
   "metadata": {},
   "outputs": [],
   "source": [
    "import requests\n",
    "\n",
    "# Define the ComfyUI API URL  \n",
    "COMFYUI_API_URL = \"http://localhost:8188/prompt\"\n",
    "\n",
    "def generate_image(prompt):\n",
    "    payload = {\"prompt\": prompt, \"steps\": 50}\n",
    "    response = requests.post(COMFYUI_API_URL, json=payload)\n",
    "    return response.json()  # URL or file path of the generated image\n",
    "\n",
    "# Generate an image for the astronaut story  \n",
    "image_prompt = \"A futuristic astronaut exploring ancient ruins on Mars, digital painting\"  \n",
    "image_url = generate_image(image_prompt)\n",
    "print(f\"Image Generated: {image_url}\")\n"
   ]
  },
  {
   "cell_type": "code",
   "execution_count": 15,
   "id": "8c653968-308b-4243-a406-cf48cc7533c7",
   "metadata": {},
   "outputs": [],
   "source": [
    "#Combining Story & Images into a Web UI\n",
    "#We'll build a Gradio web app where users input a story idea, get a generated story, and AI-generated illustrations."
   ]
  },
  {
   "cell_type": "code",
   "execution_count": null,
   "id": "076a0dcd-5d5a-4b93-907d-0bf5fe129a2f",
   "metadata": {},
   "outputs": [],
   "source": [
    "import gradio as gr\n",
    "\n",
    "def create_story_and_images(prompt):\n",
    "    story = generate_story(prompt)\n",
    "    image_url = generate_image(prompt)  \n",
    "    return story, image_url\n",
    "\n",
    "iface = gr.Interface(\n",
    "    fn=create_story_and_images,\n",
    "    inputs=\"text\",\n",
    "    outputs=[\"text\", \"image\"],\n",
    "    title=\"AI Comic Book Generator\",\n",
    "    description=\"Enter a story idea, and AI will generate a story with illustrations.\"\n",
    ")\n",
    "\n",
    "iface.launch()\n"
   ]
  },
  {
   "cell_type": "code",
   "execution_count": 17,
   "id": "81032921-d3e1-4ec2-af0f-e0b783f5a239",
   "metadata": {},
   "outputs": [],
   "source": [
    "#Exporting to PDF\n",
    "#After generating images and text, we format them into a storybook PDF."
   ]
  },
  {
   "cell_type": "code",
   "execution_count": null,
   "id": "7c6dd0fe-f1f0-40a6-b8a2-cca721da8824",
   "metadata": {},
   "outputs": [],
   "source": [
    "from fpdf import FPDF\n",
    "\n",
    "def create_pdf(story, images, filename=\"storybook.pdf\"):\n",
    "    pdf = FPDF()\n",
    "    pdf.set_auto_page_break(auto=True, margin=15)\n",
    "\n",
    "    pdf.add_page()\n",
    "    pdf.set_font(\"Arial\", size=12)\n",
    "    pdf.multi_cell(0, 10, story)\n",
    "\n",
    "    for img in images:\n",
    "        pdf.add_page()\n",
    "        pdf.image(img, x=10, y=20, w=180)\n",
    "\n",
    "    pdf.output(filename)\n",
    "\n",
    "# Example Usage\n",
    "story_text = \"A young boy finds a magical portal in his backyard...\"\n",
    "image_paths = [\"scene1.jpg\", \"scene2.jpg\"]\n",
    "create_pdf(story_text, image_paths)\n",
    "print(\"PDF Created!\")\n"
   ]
  }
 ],
 "metadata": {
  "kernelspec": {
   "display_name": "Python 3 (ipykernel)",
   "language": "python",
   "name": "python3"
  },
  "language_info": {
   "codemirror_mode": {
    "name": "ipython",
    "version": 3
   },
   "file_extension": ".py",
   "mimetype": "text/x-python",
   "name": "python",
   "nbconvert_exporter": "python",
   "pygments_lexer": "ipython3",
   "version": "3.12.4"
  }
 },
 "nbformat": 4,
 "nbformat_minor": 5
}
